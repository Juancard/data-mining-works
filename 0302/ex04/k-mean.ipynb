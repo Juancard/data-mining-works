{
 "metadata": {
  "name": "",
  "signature": "sha256:b0a08cfd679a620fe134d7e8816a36bbbffeea927687b9e9b9144497330f2bb6"
 },
 "nbformat": 3,
 "nbformat_minor": 0,
 "worksheets": [
  {
   "cells": [
    {
     "cell_type": "code",
     "collapsed": false,
     "input": [
      "import os\n",
      "import sys\n",
      "import pandas as pd\n",
      "import numpy as np\n",
      "import random\n",
      "import matplotlib\n",
      "import matplotlib.pyplot as plt"
     ],
     "language": "python",
     "metadata": {},
     "outputs": [],
     "prompt_number": 1
    },
    {
     "cell_type": "code",
     "collapsed": false,
     "input": [
      "path = \"dataset.csv\" # dataset path\n",
      "k_clusters = 2 # number of clusters\n",
      "execute_n_times = 100 # k-means will run this value times (to find global optimum)"
     ],
     "language": "python",
     "metadata": {},
     "outputs": [],
     "prompt_number": 2
    },
    {
     "cell_type": "code",
     "collapsed": false,
     "input": [
      "dataset = pd.read_csv(path)\n",
      "dataset"
     ],
     "language": "python",
     "metadata": {},
     "outputs": [
      {
       "html": [
        "<div style=\"max-width:1500px;overflow:auto;\">\n",
        "<style>\n",
        "    .dataframe thead tr:only-child th {\n",
        "        text-align: right;\n",
        "    }\n",
        "\n",
        "    .dataframe thead th {\n",
        "        text-align: left;\n",
        "    }\n",
        "\n",
        "    .dataframe tbody tr th {\n",
        "        vertical-align: top;\n",
        "    }\n",
        "</style>\n",
        "<table border=\"1\" class=\"dataframe\">\n",
        "  <thead>\n",
        "    <tr style=\"text-align: right;\">\n",
        "      <th></th>\n",
        "      <th>X</th>\n",
        "      <th>Y</th>\n",
        "    </tr>\n",
        "  </thead>\n",
        "  <tbody>\n",
        "    <tr>\n",
        "      <th>0</th>\n",
        "      <td>2</td>\n",
        "      <td>10</td>\n",
        "    </tr>\n",
        "    <tr>\n",
        "      <th>1</th>\n",
        "      <td>2</td>\n",
        "      <td>5</td>\n",
        "    </tr>\n",
        "    <tr>\n",
        "      <th>2</th>\n",
        "      <td>8</td>\n",
        "      <td>4</td>\n",
        "    </tr>\n",
        "    <tr>\n",
        "      <th>3</th>\n",
        "      <td>2</td>\n",
        "      <td>7</td>\n",
        "    </tr>\n",
        "    <tr>\n",
        "      <th>4</th>\n",
        "      <td>7</td>\n",
        "      <td>5</td>\n",
        "    </tr>\n",
        "    <tr>\n",
        "      <th>5</th>\n",
        "      <td>6</td>\n",
        "      <td>4</td>\n",
        "    </tr>\n",
        "    <tr>\n",
        "      <th>6</th>\n",
        "      <td>1</td>\n",
        "      <td>2</td>\n",
        "    </tr>\n",
        "    <tr>\n",
        "      <th>7</th>\n",
        "      <td>4</td>\n",
        "      <td>9</td>\n",
        "    </tr>\n",
        "  </tbody>\n",
        "</table>\n",
        "</div>"
       ],
       "metadata": {},
       "output_type": "pyout",
       "prompt_number": 3,
       "text": [
        "   X   Y\n",
        "0  2  10\n",
        "1  2   5\n",
        "2  8   4\n",
        "3  2   7\n",
        "4  7   5\n",
        "5  6   4\n",
        "6  1   2\n",
        "7  4   9"
       ]
      }
     ],
     "prompt_number": 3
    },
    {
     "cell_type": "code",
     "collapsed": false,
     "input": [
      "# step 1: random assignation of clusters\n",
      "def randomClusterAssign(dataset, k_clusters):\n",
      "    dataset[\"cluster\"] = np.random.randint(0, k_clusters, dataset.shape[0])\n",
      "    return dataset\n",
      "\n",
      "# step 2.1: calculate centroids \n",
      "def calculate_centroides(dataset, k_clusters):\n",
      "    centroides = pd.DataFrame(columns=[\"X\", \"Y\"], index=range(0,k_clusters))\n",
      "    for current_cluster in range(0,k_clusters):\n",
      "        centroides.iloc[current_cluster] = dataset.loc[dataset[\"cluster\"] == current_cluster, [\"X\", \"Y\"]].mean()\n",
      "    return centroides\n",
      "\n",
      "# step 2.2 assign observations to clusters through centroids distance\n",
      "# step 2.2.1 calculate distance of every point to every centroid\n",
      "def cluster_assignation(dataset, centroides, k_clusters):\n",
      "    distances = pd.DataFrame(columns = range(0, k_clusters))\n",
      "    for c in range(0, k_clusters):\n",
      "        distances[c] = np.sqrt(np.power(dataset[[\"X\", \"Y\"]] - centroides.iloc[c], 2).sum(axis=1))\n",
      "    # step 2.2.2 assign observations to its closest cluster\n",
      "    return distances.idxmin(axis=1)\n",
      "\n",
      "def k_means(dataset, k_clusters):\n",
      "    # step 1:\n",
      "    dataset = randomClusterAssign(dataset, k_clusters)\n",
      "    changes_in_clusters = True\n",
      "    while changes_in_clusters:\n",
      "        # step 2.1\n",
      "        centroides = calculate_centroides(dataset, k_clusters)\n",
      "        # step 2.2\n",
      "        newClusterAssignment = cluster_assignation(dataset, centroides, k_clusters)\n",
      "        # if clusters remains the same, then we've finished\n",
      "        changes_in_clusters = not dataset[\"cluster\"].equals(newClusterAssignment)\n",
      "        dataset[\"cluster\"] = newClusterAssignment   \n",
      "    return dataset, centroides\n",
      "\n",
      "colors = matplotlib.colors.cnames.keys()\n",
      "def plotClusters(dataset):\n",
      "    dataset.plot(kind='scatter', x='X', y='Y', color=[colors[i] for i in dataset['cluster']], s=50)\n",
      "    plt.show(block=False)"
     ],
     "language": "python",
     "metadata": {},
     "outputs": [],
     "prompt_number": 4
    },
    {
     "cell_type": "code",
     "collapsed": false,
     "input": [
      "# after running k-means n times, this function selects most frequent cluster assignation\n",
      "def getMostFrequentCluster(all_clusters):\n",
      "    transposed = all_clusters.transpose()\n",
      "    cluster_freq = transposed.groupby(transposed.columns.tolist(),as_index=False).size()\n",
      "    print cluster_freq\n",
      "    most_freq = cluster_freq.idxmax()\n",
      "    print most_freq\n",
      "    return most_freq    \n",
      "\n",
      "all_k_means_results = pd.DataFrame(columns=[])\n",
      "for i in range(0, execute_n_times):\n",
      "    dataset, centroides = k_means(dataset, k_clusters)\n",
      "    all_k_means_results[i] = dataset[\"cluster\"]\n",
      "    \n",
      "dataset[\"cluster\"] = getMostFrequentCluster(all_k_means_results)\n",
      "dataset[\"cluster\"] = dataset[\"cluster\"].astype(int)\n",
      "\n",
      "plotClusters(dataset)\n",
      "dataset"
     ],
     "language": "python",
     "metadata": {},
     "outputs": []
    },
    {
     "cell_type": "code",
     "collapsed": false,
     "input": [],
     "language": "python",
     "metadata": {},
     "outputs": [
      {
       "ename": "NameError",
       "evalue": "name 'transposed' is not defined",
       "output_type": "pyerr",
       "traceback": [
        "\u001b[0;31m---------------------------------------------------------------------------\u001b[0m\n\u001b[0;31mNameError\u001b[0m                                 Traceback (most recent call last)",
        "\u001b[0;32m<ipython-input-12-b724098a6ffd>\u001b[0m in \u001b[0;36m<module>\u001b[0;34m()\u001b[0m\n\u001b[0;32m----> 1\u001b[0;31m \u001b[0mtransposed\u001b[0m\u001b[0;34m\u001b[0m\u001b[0m\n\u001b[0m",
        "\u001b[0;31mNameError\u001b[0m: name 'transposed' is not defined"
       ]
      }
     ],
     "prompt_number": 12
    }
   ],
   "metadata": {}
  }
 ]
}